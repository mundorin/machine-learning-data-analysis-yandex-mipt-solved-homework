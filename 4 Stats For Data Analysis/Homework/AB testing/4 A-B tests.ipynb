{
 "cells": [
  {
   "cell_type": "code",
   "execution_count": 1,
   "id": "da0e6974",
   "metadata": {},
   "outputs": [
    {
     "name": "stdout",
     "output_type": "stream",
     "text": [
      "%pylab is deprecated, use %matplotlib inline and import the required libraries.\n",
      "Populating the interactive namespace from numpy and matplotlib\n"
     ]
    }
   ],
   "source": [
    "\n",
    "import pandas as pd\n",
    "import numpy as np\n",
    "from scipy import stats\n",
    "import scipy\n",
    "from statsmodels.sandbox.stats.multicomp import multipletests \n",
    "\n",
    "%pylab inline\n",
    "\n",
    "import warnings\n",
    "warnings.filterwarnings('ignore')"
   ]
  },
  {
   "cell_type": "code",
   "execution_count": 2,
   "id": "d33d489b",
   "metadata": {},
   "outputs": [
    {
     "data": {
      "text/html": [
       "<div>\n",
       "<style scoped>\n",
       "    .dataframe tbody tr th:only-of-type {\n",
       "        vertical-align: middle;\n",
       "    }\n",
       "\n",
       "    .dataframe tbody tr th {\n",
       "        vertical-align: top;\n",
       "    }\n",
       "\n",
       "    .dataframe thead th {\n",
       "        text-align: right;\n",
       "    }\n",
       "</style>\n",
       "<table border=\"1\" class=\"dataframe\">\n",
       "  <thead>\n",
       "    <tr style=\"text-align: right;\">\n",
       "      <th></th>\n",
       "      <th>userID</th>\n",
       "      <th>browser</th>\n",
       "      <th>slot</th>\n",
       "      <th>n_clicks</th>\n",
       "      <th>n_queries</th>\n",
       "      <th>n_nonclk_queries</th>\n",
       "    </tr>\n",
       "  </thead>\n",
       "  <tbody>\n",
       "    <tr>\n",
       "      <th>0</th>\n",
       "      <td>1</td>\n",
       "      <td>Browser #2</td>\n",
       "      <td>exp</td>\n",
       "      <td>23</td>\n",
       "      <td>32</td>\n",
       "      <td>19</td>\n",
       "    </tr>\n",
       "    <tr>\n",
       "      <th>1</th>\n",
       "      <td>3</td>\n",
       "      <td>Browser #4</td>\n",
       "      <td>exp</td>\n",
       "      <td>3</td>\n",
       "      <td>4</td>\n",
       "      <td>2</td>\n",
       "    </tr>\n",
       "    <tr>\n",
       "      <th>2</th>\n",
       "      <td>5</td>\n",
       "      <td>Browser #4</td>\n",
       "      <td>exp</td>\n",
       "      <td>29</td>\n",
       "      <td>35</td>\n",
       "      <td>16</td>\n",
       "    </tr>\n",
       "    <tr>\n",
       "      <th>3</th>\n",
       "      <td>6</td>\n",
       "      <td>Browser #4</td>\n",
       "      <td>control</td>\n",
       "      <td>12</td>\n",
       "      <td>6</td>\n",
       "      <td>0</td>\n",
       "    </tr>\n",
       "    <tr>\n",
       "      <th>4</th>\n",
       "      <td>7</td>\n",
       "      <td>Browser #4</td>\n",
       "      <td>exp</td>\n",
       "      <td>54</td>\n",
       "      <td>68</td>\n",
       "      <td>30</td>\n",
       "    </tr>\n",
       "  </tbody>\n",
       "</table>\n",
       "</div>"
      ],
      "text/plain": [
       "   userID     browser     slot  n_clicks  n_queries  n_nonclk_queries\n",
       "0       1  Browser #2      exp        23         32                19\n",
       "1       3  Browser #4      exp         3          4                 2\n",
       "2       5  Browser #4      exp        29         35                16\n",
       "3       6  Browser #4  control        12          6                 0\n",
       "4       7  Browser #4      exp        54         68                30"
      ]
     },
     "execution_count": 2,
     "metadata": {},
     "output_type": "execute_result"
    }
   ],
   "source": [
    "df = pd.read_csv('ab_browser_test.csv')\n",
    "df.head(5)"
   ]
  },
  {
   "cell_type": "code",
   "execution_count": 3,
   "id": "a19ed8ff",
   "metadata": {},
   "outputs": [
    {
     "name": "stdout",
     "output_type": "stream",
     "text": [
      "<class 'pandas.core.frame.DataFrame'>\n",
      "RangeIndex: 566134 entries, 0 to 566133\n",
      "Data columns (total 6 columns):\n",
      " #   Column            Non-Null Count   Dtype \n",
      "---  ------            --------------   ----- \n",
      " 0   userID            566134 non-null  int64 \n",
      " 1   browser           566134 non-null  object\n",
      " 2   slot              566134 non-null  object\n",
      " 3   n_clicks          566134 non-null  int64 \n",
      " 4   n_queries         566134 non-null  int64 \n",
      " 5   n_nonclk_queries  566134 non-null  int64 \n",
      "dtypes: int64(4), object(2)\n",
      "memory usage: 25.9+ MB\n"
     ]
    }
   ],
   "source": [
    "\n",
    "df.info()"
   ]
  },
  {
   "cell_type": "code",
   "execution_count": 14,
   "id": "66e243d3",
   "metadata": {},
   "outputs": [],
   "source": [
    "count_exp = (df['slot'] == 'exp').sum()\n",
    "count_control = (df['slot'] == 'control').sum()\n",
    "count_cliks_exp = df[df['slot'] == 'exp']['n_clicks'].sum()\n",
    "count_cliks_control = df[df['slot'] == 'control']['n_clicks'].sum()"
   ]
  },
  {
   "cell_type": "code",
   "execution_count": null,
   "id": "e5ffcb97",
   "metadata": {},
   "outputs": [],
   "source": [
    "df[df['slot'] == 'control']['n_clicks'].sum()"
   ]
  },
  {
   "cell_type": "code",
   "execution_count": 10,
   "id": "5c782b9f",
   "metadata": {},
   "outputs": [],
   "source": []
  },
  {
   "cell_type": "markdown",
   "id": "442b9ec6",
   "metadata": {},
   "source": [
    "## count_cliks_exp = df[df['slot'] == 'exp']['n_clicks'].sum()\n",
    "_test_\n",
    "__test__\n",
    "*test*\n",
    "//test//"
   ]
  },
  {
   "cell_type": "code",
   "execution_count": 22,
   "id": "ef590b11",
   "metadata": {},
   "outputs": [
    {
     "data": {
      "text/plain": [
       "0.026867941907439352"
      ]
     },
     "execution_count": 22,
     "metadata": {},
     "output_type": "execute_result"
    }
   ],
   "source": [
    "(count_cliks_exp/count_exp)/(count_cliks_control/count_control)-1"
   ]
  },
  {
   "cell_type": "code",
   "execution_count": 24,
   "id": "78c4a5b4",
   "metadata": {},
   "outputs": [
    {
     "data": {
      "text/plain": [
       "1.6135689824415809"
      ]
     },
     "execution_count": 24,
     "metadata": {},
     "output_type": "execute_result"
    }
   ],
   "source": [
    "(count_cliks_exp-count_cliks_control)/count_cliks_control*100"
   ]
  },
  {
   "cell_type": "code",
   "execution_count": 25,
   "id": "e945dd56",
   "metadata": {},
   "outputs": [],
   "source": [
    "def get_bootstrap_samples(data, n_samples):\n",
    "    indices = np.random.randint(0, len(data), (n_samples, len(data)))\n",
    "    samples = data[indices]\n",
    "    return samples\n",
    "def stat_intervals(stat, alpha):\n",
    "    boundaries = np.percentile(stat, [100 * alpha / 2., 100 * (1 - alpha / 2.)])\n",
    "    return boundaries"
   ]
  },
  {
   "cell_type": "code",
   "execution_count": 59,
   "id": "2b093885",
   "metadata": {},
   "outputs": [],
   "source": [
    "sample_exp = get_bootstrap_samples(df[df['slot'] == 'exp']['n_clicks'].to_numpy(),100)\n",
    "sample_control = get_bootstrap_samples(df[df['slot'] == 'control']['n_clicks'].to_numpy(),100)"
   ]
  },
  {
   "cell_type": "code",
   "execution_count": 60,
   "id": "6875c3fa",
   "metadata": {},
   "outputs": [
    {
     "data": {
      "text/plain": [
       "0         23\n",
       "1          3\n",
       "2         29\n",
       "3         12\n",
       "4         54\n",
       "          ..\n",
       "566129     1\n",
       "566130     4\n",
       "566131     0\n",
       "566132     2\n",
       "566133     3\n",
       "Name: n_clicks, Length: 566134, dtype: int64"
      ]
     },
     "execution_count": 60,
     "metadata": {},
     "output_type": "execute_result"
    }
   ],
   "source": [
    "df['n_clicks']"
   ]
  },
  {
   "cell_type": "code",
   "execution_count": 61,
   "id": "9ea00764",
   "metadata": {},
   "outputs": [
    {
     "data": {
      "text/plain": [
       "array([[ 12,   8,   0, ...,   2,   0,   4],\n",
       "       [  0,   1,   0, ...,   0,  13,   0],\n",
       "       [ 37,   0,  50, ..., 109,   4,  11],\n",
       "       ...,\n",
       "       [ 49,   4,   0, ...,  11,   1,   7],\n",
       "       [  0,  30,   0, ...,   3,  25,   1],\n",
       "       [  3,  12,   4, ...,  30,  10,  31]], dtype=int64)"
      ]
     },
     "execution_count": 61,
     "metadata": {},
     "output_type": "execute_result"
    }
   ],
   "source": [
    "sample_exp"
   ]
  },
  {
   "cell_type": "code",
   "execution_count": 62,
   "id": "d1e1c9d4",
   "metadata": {},
   "outputs": [
    {
     "data": {
      "text/plain": [
       "array([11.52143334, 11.65806733])"
      ]
     },
     "execution_count": 62,
     "metadata": {},
     "output_type": "execute_result"
    }
   ],
   "source": [
    "stat_intervals(sample_exp.mean(axis=1),0.05)"
   ]
  },
  {
   "cell_type": "code",
   "execution_count": 63,
   "id": "a301ebad",
   "metadata": {},
   "outputs": [
    {
     "data": {
      "text/plain": [
       "array([11.21656153, 11.36177299])"
      ]
     },
     "execution_count": 63,
     "metadata": {},
     "output_type": "execute_result"
    }
   ],
   "source": [
    "stat_intervals(sample_control.mean(axis=1),0.05)"
   ]
  },
  {
   "cell_type": "code",
   "execution_count": 71,
   "id": "b113b483",
   "metadata": {},
   "outputs": [
    {
     "data": {
      "text/plain": [
       "array([0.30487181, 0.29629435])"
      ]
     },
     "execution_count": 71,
     "metadata": {},
     "output_type": "execute_result"
    }
   ],
   "source": [
    "stat_intervals(sample_exp.mean(axis=1),0.05)-stat_intervals(sample_control.mean(axis=1),0.05)"
   ]
  },
  {
   "cell_type": "code",
   "execution_count": 64,
   "id": "22423bea",
   "metadata": {},
   "outputs": [
    {
     "data": {
      "text/plain": [
       "(281580,)"
      ]
     },
     "execution_count": 64,
     "metadata": {},
     "output_type": "execute_result"
    }
   ],
   "source": [
    "sample_exp.mean(axis=0).shape"
   ]
  },
  {
   "cell_type": "code",
   "execution_count": 65,
   "id": "ace81da5",
   "metadata": {},
   "outputs": [
    {
     "data": {
      "text/plain": [
       "(100,)"
      ]
     },
     "execution_count": 65,
     "metadata": {},
     "output_type": "execute_result"
    }
   ],
   "source": [
    "sample_exp.mean(axis=1).shape"
   ]
  },
  {
   "cell_type": "code",
   "execution_count": 66,
   "id": "3bb3b410",
   "metadata": {},
   "outputs": [
    {
     "data": {
      "text/plain": [
       "array([4., 4., 4., 4., 4., 4., 4., 4., 4., 4., 4., 4., 4., 4., 4., 4., 4.,\n",
       "       4., 4., 4., 4., 4., 4., 4., 4., 4., 4., 4., 4., 4., 4., 4., 4., 4.,\n",
       "       4., 4., 4., 4., 4., 4., 4., 4., 4., 4., 4., 4., 4., 4., 4., 4., 4.,\n",
       "       4., 4., 4., 4., 4., 4., 4., 4., 4., 4., 4., 4., 4., 4., 4., 4., 4.,\n",
       "       4., 4., 4., 4., 4., 4., 4., 4., 4., 4., 4., 4., 4., 4., 4., 4., 4.,\n",
       "       4., 4., 4., 4., 4., 4., 4., 4., 4., 4., 4., 4., 4., 4., 4.])"
      ]
     },
     "execution_count": 66,
     "metadata": {},
     "output_type": "execute_result"
    }
   ],
   "source": [
    "np.median(sample_control,axis=1)"
   ]
  },
  {
   "cell_type": "code",
   "execution_count": 67,
   "id": "1d576185",
   "metadata": {},
   "outputs": [
    {
     "data": {
      "text/plain": [
       "array([5., 5., 5., 5., 5., 5., 5., 5., 5., 5., 5., 5., 5., 5., 5., 5., 5.,\n",
       "       5., 5., 5., 5., 5., 5., 5., 5., 5., 5., 5., 5., 5., 5., 5., 5., 5.,\n",
       "       5., 5., 5., 5., 5., 5., 5., 5., 5., 5., 5., 5., 5., 5., 5., 5., 5.,\n",
       "       5., 5., 5., 5., 5., 5., 5., 4., 5., 5., 5., 5., 5., 5., 5., 5., 5.,\n",
       "       5., 5., 5., 5., 5., 5., 5., 5., 5., 5., 5., 5., 5., 5., 5., 5., 5.,\n",
       "       5., 5., 5., 5., 5., 5., 5., 5., 5., 5., 5., 5., 5., 5., 5.])"
      ]
     },
     "execution_count": 67,
     "metadata": {},
     "output_type": "execute_result"
    }
   ],
   "source": [
    "np.median(sample_exp,axis=1)"
   ]
  },
  {
   "cell_type": "code",
   "execution_count": 68,
   "id": "32e1ccca",
   "metadata": {},
   "outputs": [
    {
     "data": {
      "text/plain": [
       "array([5., 5.])"
      ]
     },
     "execution_count": 68,
     "metadata": {},
     "output_type": "execute_result"
    }
   ],
   "source": [
    "stat_intervals(np.median(sample_exp,axis=1),0.05)"
   ]
  },
  {
   "cell_type": "code",
   "execution_count": 70,
   "id": "39fe5440",
   "metadata": {},
   "outputs": [
    {
     "data": {
      "text/plain": [
       "array([4., 4.])"
      ]
     },
     "execution_count": 70,
     "metadata": {},
     "output_type": "execute_result"
    }
   ],
   "source": [
    "stat_intervals(np.median(sample_control,axis=1),0.05)"
   ]
  },
  {
   "cell_type": "code",
   "execution_count": null,
   "id": "826d41d7",
   "metadata": {},
   "outputs": [],
   "source": []
  },
  {
   "cell_type": "code",
   "execution_count": 91,
   "id": "27e5b349",
   "metadata": {},
   "outputs": [],
   "source": [
    "np.random.seed(0)\n",
    "n_boot_samples = 500"
   ]
  },
  {
   "cell_type": "code",
   "execution_count": 92,
   "id": "ae4cc32f",
   "metadata": {},
   "outputs": [],
   "source": [
    "boot_samples = get_bootstrap_samples(df[df['slot'] == 'control']['n_clicks'].to_numpy(),n_boot_samples)\n",
    "control_boot_means = boot_samples.mean(axis=1)\n",
    "control_boot_chi_squared = (((boot_samples.T-control_boot_means).T)**2).sum(axis=1)"
   ]
  },
  {
   "cell_type": "code",
   "execution_count": 95,
   "id": "242a5dfc",
   "metadata": {},
   "outputs": [
    {
     "data": {
      "image/png": "[encoded data removed]",
      "text/plain": [
       "<Figure size 640x480 with 1 Axes>"
      ]
     },
     "metadata": {},
     "output_type": "display_data"
    }
   ],
   "source": [
    "scipy.stats.probplot(control_boot_means,plot=plt,rvalue=True)\n",
    "plt.show()"
   ]
  },
  {
   "cell_type": "code",
   "execution_count": 96,
   "id": "364fe129",
   "metadata": {},
   "outputs": [
    {
     "data": {
      "image/png": "[encoded data removed]",
      "text/plain": [
       "<Figure size 640x480 with 1 Axes>"
      ]
     },
     "metadata": {},
     "output_type": "display_data"
    }
   ],
   "source": [
    "scipy.stats.probplot(control_boot_chi_squared, dist=\"chi2\", \n",
    "                     sparams=((df['slot'] == 'control').sum()-1), plot=plt,rvalue=True)\n",
    "plt.show()"
   ]
  },
  {
   "cell_type": "code",
   "execution_count": 99,
   "id": "9f5deaa3",
   "metadata": {},
   "outputs": [
    {
     "data": {
      "text/plain": [
       "MannwhitneyuResult(statistic=41184125116.0, pvalue=6.247235801370162e-75)"
      ]
     },
     "execution_count": 99,
     "metadata": {},
     "output_type": "execute_result"
    }
   ],
   "source": [
    "stats.mannwhitneyu(df[(df['slot'] == 'exp')].n_clicks, df[(df['slot'] == 'control')].n_clicks)"
   ]
  },
  {
   "cell_type": "code",
   "execution_count": 109,
   "id": "c4afba74",
   "metadata": {},
   "outputs": [
    {
     "name": "stdout",
     "output_type": "stream",
     "text": [
      "MannwhitneyuResult(statistic=1542917872.0, pvalue=0.0544877208394482)\n",
      "MannwhitneyuResult(statistic=3076629747.0, pvalue=0.8152123531690997)\n",
      "MannwhitneyuResult(statistic=1178625929.5, pvalue=0.0)\n",
      "MannwhitneyuResult(statistic=134411881.0, pvalue=0.07480120286021603)\n",
      "MannwhitneyuResult(statistic=144001333.0, pvalue=0.9073331277747075)\n",
      "MannwhitneyuResult(statistic=2547597959.5, pvalue=0.5148110304420064)\n"
     ]
    }
   ],
   "source": [
    "res = []\n",
    "for i in df['browser'].unique():\n",
    "    df_browser = df[df['browser'] == i]\n",
    "    res.append(stats.mannwhitneyu(df_browser[(df_browser['slot'] == 'exp')].n_clicks, df_browser[(df_browser['slot'] == 'control')].n_clicks).pvalue)\n",
    "    print(stats.mannwhitneyu(df_browser[(df_browser['slot'] == 'exp')].n_clicks, df_browser[(df_browser['slot'] == 'control')].n_clicks))"
   ]
  },
  {
   "cell_type": "code",
   "execution_count": 110,
   "id": "fe7ab57e",
   "metadata": {},
   "outputs": [
    {
     "data": {
      "text/plain": [
       "[0.0544877208394482,\n",
       " 0.8152123531690997,\n",
       " 0.0,\n",
       " 0.07480120286021603,\n",
       " 0.9073331277747075,\n",
       " 0.5148110304420064]"
      ]
     },
     "execution_count": 110,
     "metadata": {},
     "output_type": "execute_result"
    }
   ],
   "source": [
    "res"
   ]
  },
  {
   "cell_type": "code",
   "execution_count": 112,
   "id": "0f5345a3",
   "metadata": {},
   "outputs": [
    {
     "data": {
      "text/plain": [
       "(array([False, False,  True, False, False, False]),\n",
       " array([0.2724386 , 1.        , 0.        , 0.29920481, 1.        ,\n",
       "        1.        ]),\n",
       " 0.008512444610847103,\n",
       " 0.008333333333333333)"
      ]
     },
     "execution_count": 112,
     "metadata": {},
     "output_type": "execute_result"
    }
   ],
   "source": [
    "multipletests(res, alpha = 0.05, method = 'holm')"
   ]
  },
  {
   "cell_type": "code",
   "execution_count": 116,
   "id": "3875da45",
   "metadata": {},
   "outputs": [],
   "source": [
    "df_control = df[df['slot'] == 'control']\n",
    "df_exp = df[df['slot'] == 'exp']"
   ]
  },
  {
   "cell_type": "code",
   "execution_count": 117,
   "id": "15304f82",
   "metadata": {},
   "outputs": [],
   "source": [
    "df_bro = pd.DataFrame(df.browser.unique(), columns = ['browser'])\n",
    "df_bro = df_bro.set_index('browser')\n",
    "df_bro['p'] = 0.\n",
    "for bro in df_bro.index:    \n",
    "    df_control_bro = df_control[df_control.browser == bro]\n",
    "    df_exp_bro = df_exp[df_exp.browser == bro]\n",
    "    pvalue = stats.mannwhitneyu(df_control_bro.n_clicks, df_exp_bro.n_clicks).pvalue\n",
    "    df_bro.loc[[bro], ['p']] = pvalue"
   ]
  },
  {
   "cell_type": "code",
   "execution_count": 119,
   "id": "109458c4",
   "metadata": {},
   "outputs": [
    {
     "data": {
      "text/html": [
       "<div>\n",
       "<style scoped>\n",
       "    .dataframe tbody tr th:only-of-type {\n",
       "        vertical-align: middle;\n",
       "    }\n",
       "\n",
       "    .dataframe tbody tr th {\n",
       "        vertical-align: top;\n",
       "    }\n",
       "\n",
       "    .dataframe thead th {\n",
       "        text-align: right;\n",
       "    }\n",
       "</style>\n",
       "<table border=\"1\" class=\"dataframe\">\n",
       "  <thead>\n",
       "    <tr style=\"text-align: right;\">\n",
       "      <th></th>\n",
       "      <th>p</th>\n",
       "    </tr>\n",
       "    <tr>\n",
       "      <th>browser</th>\n",
       "      <th></th>\n",
       "    </tr>\n",
       "  </thead>\n",
       "  <tbody>\n",
       "    <tr>\n",
       "      <th>Browser #2</th>\n",
       "      <td>0.054488</td>\n",
       "    </tr>\n",
       "    <tr>\n",
       "      <th>Browser #4</th>\n",
       "      <td>0.815212</td>\n",
       "    </tr>\n",
       "    <tr>\n",
       "      <th>Browser #14</th>\n",
       "      <td>0.000000</td>\n",
       "    </tr>\n",
       "    <tr>\n",
       "      <th>Browser #17</th>\n",
       "      <td>0.074801</td>\n",
       "    </tr>\n",
       "    <tr>\n",
       "      <th>Browser #20</th>\n",
       "      <td>0.907333</td>\n",
       "    </tr>\n",
       "    <tr>\n",
       "      <th>Browser #22</th>\n",
       "      <td>0.514811</td>\n",
       "    </tr>\n",
       "  </tbody>\n",
       "</table>\n",
       "</div>"
      ],
      "text/plain": [
       "                    p\n",
       "browser              \n",
       "Browser #2   0.054488\n",
       "Browser #4   0.815212\n",
       "Browser #14  0.000000\n",
       "Browser #17  0.074801\n",
       "Browser #20  0.907333\n",
       "Browser #22  0.514811"
      ]
     },
     "execution_count": 119,
     "metadata": {},
     "output_type": "execute_result"
    }
   ],
   "source": [
    "df_bro"
   ]
  },
  {
   "cell_type": "code",
   "execution_count": 120,
   "id": "b97d3992",
   "metadata": {},
   "outputs": [],
   "source": [
    "reject, p_corrected, a1, a2 = multipletests(df_bro.p, \n",
    "                                            alpha = 0.05, \n",
    "                                            method = 'holm') \n",
    "\n",
    "df_bro['p_corrected'] = p_corrected\n",
    "df_bro['reject'] = reject"
   ]
  },
  {
   "cell_type": "code",
   "execution_count": 121,
   "id": "6385e4ff",
   "metadata": {},
   "outputs": [
    {
     "data": {
      "text/html": [
       "<div>\n",
       "<style scoped>\n",
       "    .dataframe tbody tr th:only-of-type {\n",
       "        vertical-align: middle;\n",
       "    }\n",
       "\n",
       "    .dataframe tbody tr th {\n",
       "        vertical-align: top;\n",
       "    }\n",
       "\n",
       "    .dataframe thead th {\n",
       "        text-align: right;\n",
       "    }\n",
       "</style>\n",
       "<table border=\"1\" class=\"dataframe\">\n",
       "  <thead>\n",
       "    <tr style=\"text-align: right;\">\n",
       "      <th></th>\n",
       "      <th>p</th>\n",
       "      <th>p_corrected</th>\n",
       "      <th>reject</th>\n",
       "    </tr>\n",
       "    <tr>\n",
       "      <th>browser</th>\n",
       "      <th></th>\n",
       "      <th></th>\n",
       "      <th></th>\n",
       "    </tr>\n",
       "  </thead>\n",
       "  <tbody>\n",
       "    <tr>\n",
       "      <th>Browser #2</th>\n",
       "      <td>0.054488</td>\n",
       "      <td>0.272439</td>\n",
       "      <td>False</td>\n",
       "    </tr>\n",
       "    <tr>\n",
       "      <th>Browser #4</th>\n",
       "      <td>0.815212</td>\n",
       "      <td>1.000000</td>\n",
       "      <td>False</td>\n",
       "    </tr>\n",
       "    <tr>\n",
       "      <th>Browser #14</th>\n",
       "      <td>0.000000</td>\n",
       "      <td>0.000000</td>\n",
       "      <td>True</td>\n",
       "    </tr>\n",
       "    <tr>\n",
       "      <th>Browser #17</th>\n",
       "      <td>0.074801</td>\n",
       "      <td>0.299205</td>\n",
       "      <td>False</td>\n",
       "    </tr>\n",
       "    <tr>\n",
       "      <th>Browser #20</th>\n",
       "      <td>0.907333</td>\n",
       "      <td>1.000000</td>\n",
       "      <td>False</td>\n",
       "    </tr>\n",
       "    <tr>\n",
       "      <th>Browser #22</th>\n",
       "      <td>0.514811</td>\n",
       "      <td>1.000000</td>\n",
       "      <td>False</td>\n",
       "    </tr>\n",
       "  </tbody>\n",
       "</table>\n",
       "</div>"
      ],
      "text/plain": [
       "                    p  p_corrected  reject\n",
       "browser                                   \n",
       "Browser #2   0.054488     0.272439   False\n",
       "Browser #4   0.815212     1.000000   False\n",
       "Browser #14  0.000000     0.000000    True\n",
       "Browser #17  0.074801     0.299205   False\n",
       "Browser #20  0.907333     1.000000   False\n",
       "Browser #22  0.514811     1.000000   False"
      ]
     },
     "execution_count": 121,
     "metadata": {},
     "output_type": "execute_result"
    }
   ],
   "source": [
    "df_bro"
   ]
  },
  {
   "cell_type": "code",
   "execution_count": 127,
   "id": "a6e69594",
   "metadata": {},
   "outputs": [],
   "source": [
    "ratio_control = []\n",
    "ratio_exp = []\n",
    "for i in df['browser'].unique():\n",
    "    ratio_control.append((df_control[df_control['browser'] == i]['n_nonclk_queries'].sum())/(df_control[df_control['browser'] == i]['n_queries'].sum())*100)\n",
    "    ratio_exp.append((df_exp[df_exp['browser'] == i]['n_nonclk_queries'].sum())/(df_exp[df_exp['browser'] == i]['n_queries'].sum())*100)\n",
    "    "
   ]
  },
  {
   "cell_type": "code",
   "execution_count": 128,
   "id": "bef54599",
   "metadata": {},
   "outputs": [
    {
     "data": {
      "text/plain": [
       "[45.96274717919465,\n",
       " 46.97092963514274,\n",
       " 57.59041136008114,\n",
       " 36.29936674628208,\n",
       " 40.540484743383296,\n",
       " 40.593976593513354]"
      ]
     },
     "execution_count": 128,
     "metadata": {},
     "output_type": "execute_result"
    }
   ],
   "source": [
    "ratio_control"
   ]
  },
  {
   "cell_type": "code",
   "execution_count": 129,
   "id": "9aa63a99",
   "metadata": {},
   "outputs": [
    {
     "data": {
      "text/plain": [
       "[44.982746948554706,\n",
       " 45.14294190358467,\n",
       " 43.755617361273295,\n",
       " 36.93741284866483,\n",
       " 38.97737648371716,\n",
       " 39.85394721969546]"
      ]
     },
     "execution_count": 129,
     "metadata": {},
     "output_type": "execute_result"
    }
   ],
   "source": [
    "ratio_exp"
   ]
  },
  {
   "cell_type": "code",
   "execution_count": 131,
   "id": "477dfa37",
   "metadata": {},
   "outputs": [
    {
     "data": {
      "text/plain": [
       "array([ 0.98000023,  1.82798773, 13.834794  , -0.6380461 ,  1.56310826,\n",
       "        0.74002937])"
      ]
     },
     "execution_count": 131,
     "metadata": {},
     "output_type": "execute_result"
    }
   ],
   "source": [
    "np.array(ratio_control)-np.array(ratio_exp)"
   ]
  },
  {
   "cell_type": "code",
   "execution_count": null,
   "id": "1ad5944e",
   "metadata": {},
   "outputs": [],
   "source": []
  }
 ],
 "metadata": {
  "kernelspec": {
   "display_name": "Python 3 (ipykernel)",
   "language": "python",
   "name": "python3"
  },
  "language_info": {
   "codemirror_mode": {
    "name": "ipython",
    "version": 3
   },
   "file_extension": ".py",
   "mimetype": "text/x-python",
   "name": "python",
   "nbconvert_exporter": "python",
   "pygments_lexer": "ipython3",
   "version": "3.11.4"
  }
 },
 "nbformat": 4,
 "nbformat_minor": 5
}
