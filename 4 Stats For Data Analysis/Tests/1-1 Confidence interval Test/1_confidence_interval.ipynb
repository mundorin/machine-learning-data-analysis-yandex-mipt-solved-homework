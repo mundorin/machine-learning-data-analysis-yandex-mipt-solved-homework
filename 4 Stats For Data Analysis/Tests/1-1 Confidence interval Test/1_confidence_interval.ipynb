{
 "cells": [
  {
   "cell_type": "code",
   "execution_count": 1,
   "id": "f27a250d",
   "metadata": {},
   "outputs": [],
   "source": [
    "import pandas as pd\n",
    "import scipy as sp\n",
    "import numpy as np\n",
    "from statsmodels.stats.weightstats import _zconfint_generic, _tconfint_generic"
   ]
  },
  {
   "cell_type": "code",
   "execution_count": 2,
   "id": "d88bb122",
   "metadata": {},
   "outputs": [
    {
     "data": {
      "text/html": [
       "<div>\n",
       "<style scoped>\n",
       "    .dataframe tbody tr th:only-of-type {\n",
       "        vertical-align: middle;\n",
       "    }\n",
       "\n",
       "    .dataframe tbody tr th {\n",
       "        vertical-align: top;\n",
       "    }\n",
       "\n",
       "    .dataframe thead th {\n",
       "        text-align: right;\n",
       "    }\n",
       "</style>\n",
       "<table border=\"1\" class=\"dataframe\">\n",
       "  <thead>\n",
       "    <tr style=\"text-align: right;\">\n",
       "      <th></th>\n",
       "      <th>location</th>\n",
       "      <th>town</th>\n",
       "      <th>mortality</th>\n",
       "      <th>hardness</th>\n",
       "    </tr>\n",
       "  </thead>\n",
       "  <tbody>\n",
       "    <tr>\n",
       "      <th>0</th>\n",
       "      <td>South</td>\n",
       "      <td>Bath</td>\n",
       "      <td>1247</td>\n",
       "      <td>105</td>\n",
       "    </tr>\n",
       "    <tr>\n",
       "      <th>1</th>\n",
       "      <td>North</td>\n",
       "      <td>Birkenhead</td>\n",
       "      <td>1668</td>\n",
       "      <td>17</td>\n",
       "    </tr>\n",
       "    <tr>\n",
       "      <th>2</th>\n",
       "      <td>South</td>\n",
       "      <td>Birmingham</td>\n",
       "      <td>1466</td>\n",
       "      <td>5</td>\n",
       "    </tr>\n",
       "    <tr>\n",
       "      <th>3</th>\n",
       "      <td>North</td>\n",
       "      <td>Blackburn</td>\n",
       "      <td>1800</td>\n",
       "      <td>14</td>\n",
       "    </tr>\n",
       "    <tr>\n",
       "      <th>4</th>\n",
       "      <td>North</td>\n",
       "      <td>Blackpool</td>\n",
       "      <td>1609</td>\n",
       "      <td>18</td>\n",
       "    </tr>\n",
       "  </tbody>\n",
       "</table>\n",
       "</div>"
      ],
      "text/plain": [
       "  location        town  mortality  hardness\n",
       "0    South        Bath       1247       105\n",
       "1    North  Birkenhead       1668        17\n",
       "2    South  Birmingham       1466         5\n",
       "3    North   Blackburn       1800        14\n",
       "4    North   Blackpool       1609        18"
      ]
     },
     "execution_count": 2,
     "metadata": {},
     "output_type": "execute_result"
    }
   ],
   "source": [
    "df = pd.read_csv('water.txt', sep = '\\t')\n",
    "df.head()"
   ]
  },
  {
   "cell_type": "code",
   "execution_count": 3,
   "id": "e0999e4e",
   "metadata": {},
   "outputs": [
    {
     "name": "stderr",
     "output_type": "stream",
     "text": [
      "C:\\Users\\Oleg\\AppData\\Local\\Temp\\ipykernel_26972\\3390915376.py:1: FutureWarning: The default value of numeric_only in DataFrame.std is deprecated. In a future version, it will default to False. In addition, specifying 'numeric_only=None' is deprecated. Select only valid columns or specify the value of numeric_only to silence this warning.\n",
      "  df.std()\n"
     ]
    },
    {
     "data": {
      "text/plain": [
       "mortality    187.668754\n",
       "hardness      38.093966\n",
       "dtype: float64"
      ]
     },
     "execution_count": 3,
     "metadata": {},
     "output_type": "execute_result"
    }
   ],
   "source": [
    "df.std()"
   ]
  },
  {
   "cell_type": "code",
   "execution_count": 4,
   "id": "527eb4be",
   "metadata": {},
   "outputs": [],
   "source": [
    "answer1 = _zconfint_generic(df['mortality'].mean(),df['mortality'].std(),0.05,'two-sided')"
   ]
  },
  {
   "cell_type": "code",
   "execution_count": 5,
   "id": "82b05eba",
   "metadata": {},
   "outputs": [
    {
     "data": {
      "text/plain": [
       "1156.3235"
      ]
     },
     "execution_count": 5,
     "metadata": {},
     "output_type": "execute_result"
    }
   ],
   "source": [
    "round(answer1[0],4)"
   ]
  },
  {
   "cell_type": "code",
   "execution_count": 9,
   "id": "df0cf2c7",
   "metadata": {},
   "outputs": [
    {
     "name": "stdout",
     "output_type": "stream",
     "text": [
      "mean 95% confidence interval (1476.0833413552848, 1572.2117406119285)\n"
     ]
    }
   ],
   "source": [
    "n = df.shape[0]\n",
    "\n",
    "mean = df['mortality'].mean()\n",
    "std = df['mortality'].std(ddof = 1)\n",
    "\n",
    "print(\"mean 95% confidence interval\", _tconfint_generic(mean, std/np.sqrt(n), n - 1, 0.05, 'two-sided'))\n"
   ]
  },
  {
   "cell_type": "code",
   "execution_count": 10,
   "id": "78d08f57",
   "metadata": {},
   "outputs": [],
   "source": [
    "answer1 = _zconfint_generic(df['mortality'].mean(),std/np.sqrt(n),0.05,'two-sided')"
   ]
  },
  {
   "cell_type": "code",
   "execution_count": 11,
   "id": "b4f0375e",
   "metadata": {},
   "outputs": [
    {
     "data": {
      "text/plain": [
       "(1477.0525038218827, 1571.2425781453305)"
      ]
     },
     "execution_count": 11,
     "metadata": {},
     "output_type": "execute_result"
    }
   ],
   "source": [
    "answer1"
   ]
  },
  {
   "cell_type": "code",
   "execution_count": 12,
   "id": "0bbb6ab4",
   "metadata": {},
   "outputs": [],
   "source": [
    "def compare_cities_stats(row):\n",
    "    locations = df['location'].unique()\n",
    "    for location in locations:\n",
    "        df_location = df[df['location'] == location]\n",
    "        mean = df_location[row].mean()\n",
    "        std = df_location[row].std(ddof = 1)\n",
    "        n = df_location.shape[0]\n",
    "        print(\"mean 95% confidence interval for \" + location + \" cities\", _tconfint_generic(mean, std/np.sqrt(n), n - 1, 0.05, 'two-sided'))"
   ]
  },
  {
   "cell_type": "code",
   "execution_count": 14,
   "id": "bd96eb03",
   "metadata": {},
   "outputs": [],
   "source": [
    "answer2 = _zconfint_generic(df[df['location'] == 'South']['mortality'].mean(),std/np.sqrt(n),0.05,'two-sided')"
   ]
  },
  {
   "cell_type": "code",
   "execution_count": 15,
   "id": "918a5c2d",
   "metadata": {},
   "outputs": [],
   "source": [
    "answer3 = _zconfint_generic(df[df['location'] == 'North']['mortality'].mean(),std/np.sqrt(n),0.05,'two-sided')"
   ]
  },
  {
   "cell_type": "code",
   "execution_count": 16,
   "id": "7404add2",
   "metadata": {},
   "outputs": [
    {
     "data": {
      "text/plain": [
       "(1329.7126551459685, 1423.9027294694163)"
      ]
     },
     "execution_count": 16,
     "metadata": {},
     "output_type": "execute_result"
    }
   ],
   "source": [
    "answer2"
   ]
  },
  {
   "cell_type": "code",
   "execution_count": 17,
   "id": "ed761f67",
   "metadata": {},
   "outputs": [
    {
     "data": {
      "text/plain": [
       "(1586.504962838276, 1680.6950371617238)"
      ]
     },
     "execution_count": 17,
     "metadata": {},
     "output_type": "execute_result"
    }
   ],
   "source": [
    "answer3"
   ]
  },
  {
   "cell_type": "code",
   "execution_count": 25,
   "id": "9859aa8f",
   "metadata": {},
   "outputs": [],
   "source": [
    "n = df[df['location'] == 'South'].shape[0]\n",
    "answer4 = _zconfint_generic(df[df['location'] == 'South']['hardness'].mean(),df['hardness'].std(ddof = 1)/np.sqrt(n),0.05,'two-sided')\n",
    "n = df[df['location'] == 'North'].shape[0]\n",
    "answer5 = _zconfint_generic(df[df['location'] == 'North']['hardness'].mean(),df['hardness'].std(ddof = 1)/np.sqrt(n),0.05,'two-sided')"
   ]
  },
  {
   "cell_type": "code",
   "execution_count": 26,
   "id": "fa0cf6ba",
   "metadata": {},
   "outputs": [
    {
     "data": {
      "text/plain": [
       "(55.12665058304722, 84.41181095541432)"
      ]
     },
     "execution_count": 26,
     "metadata": {},
     "output_type": "execute_result"
    }
   ],
   "source": [
    "answer4"
   ]
  },
  {
   "cell_type": "code",
   "execution_count": 27,
   "id": "fe02ead7",
   "metadata": {},
   "outputs": [
    {
     "data": {
      "text/plain": [
       "(17.7796830272666, 43.0203169727334)"
      ]
     },
     "execution_count": 27,
     "metadata": {},
     "output_type": "execute_result"
    }
   ],
   "source": [
    "answer5"
   ]
  },
  {
   "cell_type": "code",
   "execution_count": 28,
   "id": "e73e35a0",
   "metadata": {},
   "outputs": [],
   "source": [
    "from scipy.stats import norm"
   ]
  },
  {
   "cell_type": "code",
   "execution_count": 46,
   "id": "9af0adaa",
   "metadata": {},
   "outputs": [
    {
     "data": {
      "text/plain": [
       "8.209536151601387"
      ]
     },
     "execution_count": 46,
     "metadata": {},
     "output_type": "execute_result"
    }
   ],
   "source": [
    "norm.ppf(0.99999999999999994444)"
   ]
  },
  {
   "cell_type": "code",
   "execution_count": 49,
   "id": "d4ad9d82",
   "metadata": {},
   "outputs": [],
   "source": [
    "n = norm.ppf(0.975)**2/0.01"
   ]
  },
  {
   "cell_type": "code",
   "execution_count": 51,
   "id": "5747196a",
   "metadata": {},
   "outputs": [
    {
     "data": {
      "text/plain": [
       "385.0"
      ]
     },
     "execution_count": 51,
     "metadata": {},
     "output_type": "execute_result"
    }
   ],
   "source": [
    "np.ceil(n)"
   ]
  },
  {
   "cell_type": "code",
   "execution_count": null,
   "id": "4c257d03",
   "metadata": {},
   "outputs": [],
   "source": []
  }
 ],
 "metadata": {
  "kernelspec": {
   "display_name": "Python 3 (ipykernel)",
   "language": "python",
   "name": "python3"
  },
  "language_info": {
   "codemirror_mode": {
    "name": "ipython",
    "version": 3
   },
   "file_extension": ".py",
   "mimetype": "text/x-python",
   "name": "python",
   "nbconvert_exporter": "python",
   "pygments_lexer": "ipython3",
   "version": "3.11.4"
  }
 },
 "nbformat": 4,
 "nbformat_minor": 5
}
