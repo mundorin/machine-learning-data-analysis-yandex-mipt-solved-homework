{
 "cells": [
  {
   "cell_type": "code",
   "execution_count": 18,
   "id": "15fac1e7",
   "metadata": {},
   "outputs": [],
   "source": [
    "from tensorflow import keras\n",
    "from tensorflow.keras.layers import Dense, Flatten"
   ]
  },
  {
   "cell_type": "code",
   "execution_count": 7,
   "id": "bb94b55b",
   "metadata": {},
   "outputs": [],
   "source": [
    "# Выполним инициализацию основных используемых модулей\n",
    "%matplotlib inline\n",
    "\n",
    "import random\n",
    "import matplotlib.pyplot as plt\n",
    "from sklearn.preprocessing import normalize\n",
    "import numpy as np\n",
    "\n",
    "import warnings\n",
    "warnings.filterwarnings(\"ignore\")\n"
   ]
  },
  {
   "cell_type": "code",
   "execution_count": 9,
   "id": "1b2526b4",
   "metadata": {},
   "outputs": [],
   "source": [
    "\n",
    "with open('wine_quality.csv') as f:\n",
    "    f.readline()  # пропуск заголовочной строки\n",
    "    data = np.loadtxt(f, delimiter=';')"
   ]
  },
  {
   "cell_type": "code",
   "execution_count": 10,
   "id": "d0be8f46",
   "metadata": {},
   "outputs": [],
   "source": [
    "TRAIN_SIZE = 0.7 # Разделение данных на обучающую и контрольную части в пропорции 70/30%\n",
    "from sklearn.model_selection import train_test_split\n",
    "\n",
    "y = data[:, -1]\n",
    "np.place(y, y < 5, 5)\n",
    "np.place(y, y > 7, 7)\n",
    "y -= min(y)\n",
    "X = data[:, :-1]\n",
    "X = normalize(X)\n",
    "\n",
    "X_train, X_test, y_train, y_test = train_test_split(X, y, train_size=TRAIN_SIZE, random_state=0)"
   ]
  },
  {
   "cell_type": "code",
   "execution_count": 22,
   "id": "01697e7f",
   "metadata": {},
   "outputs": [
    {
     "data": {
      "text/plain": [
       "(1599, 11)"
      ]
     },
     "execution_count": 22,
     "metadata": {},
     "output_type": "execute_result"
    }
   ],
   "source": [
    "X.shape"
   ]
  },
  {
   "cell_type": "code",
   "execution_count": 32,
   "id": "dd2e47e3",
   "metadata": {},
   "outputs": [
    {
     "name": "stdout",
     "output_type": "stream",
     "text": [
      "Model: \"sequential_2\"\n",
      "_________________________________________________________________\n",
      " Layer (type)                Output Shape              Param #   \n",
      "=================================================================\n",
      " flatten_3 (Flatten)         (None, 11)                0         \n",
      "                                                                 \n",
      " dense_4 (Dense)             (None, 50)                600       \n",
      "                                                                 \n",
      " dense_5 (Dense)             (None, 3)                 153       \n",
      "                                                                 \n",
      "=================================================================\n",
      "Total params: 753 (2.94 KB)\n",
      "Trainable params: 753 (2.94 KB)\n",
      "Non-trainable params: 0 (0.00 Byte)\n",
      "_________________________________________________________________\n",
      "None\n"
     ]
    }
   ],
   "source": [
    "print(model.summary()) "
   ]
  },
  {
   "cell_type": "code",
   "execution_count": 115,
   "id": "3d8f135d",
   "metadata": {},
   "outputs": [],
   "source": [
    "y_train_cat = keras.utils.to_categorical(y_train, 3)\n",
    "y_test_cat = keras.utils.to_categorical(y_test, 3)\n",
    "hidden_neurons_num = [50, 100, 200, 500, 700, 1000]\n",
    "res_train_vec=[]\n",
    "res_test_vec = []"
   ]
  },
  {
   "cell_type": "code",
   "execution_count": 116,
   "id": "2b481fe2",
   "metadata": {},
   "outputs": [
    {
     "name": "stdout",
     "output_type": "stream",
     "text": [
      "Epoch 1/15\n",
      "28/28 [==============================] - 0s 6ms/step - loss: 1.0666 - accuracy: 0.4547 - val_loss: 1.0489 - val_accuracy: 0.4732\n",
      "Epoch 2/15\n",
      "28/28 [==============================] - 0s 2ms/step - loss: 1.0416 - accuracy: 0.4603 - val_loss: 1.0290 - val_accuracy: 0.4688\n",
      "Epoch 3/15\n",
      "28/28 [==============================] - 0s 2ms/step - loss: 1.0271 - accuracy: 0.4637 - val_loss: 1.0169 - val_accuracy: 0.4688\n",
      "Epoch 4/15\n",
      "28/28 [==============================] - 0s 2ms/step - loss: 1.0181 - accuracy: 0.4637 - val_loss: 1.0092 - val_accuracy: 0.4688\n",
      "Epoch 5/15\n",
      "28/28 [==============================] - 0s 2ms/step - loss: 1.0122 - accuracy: 0.4637 - val_loss: 1.0039 - val_accuracy: 0.4688\n",
      "Epoch 6/15\n",
      "28/28 [==============================] - 0s 2ms/step - loss: 1.0084 - accuracy: 0.4626 - val_loss: 1.0003 - val_accuracy: 0.4688\n",
      "Epoch 7/15\n",
      "28/28 [==============================] - 0s 2ms/step - loss: 1.0056 - accuracy: 0.4626 - val_loss: 0.9976 - val_accuracy: 0.4688\n",
      "Epoch 8/15\n",
      "28/28 [==============================] - 0s 2ms/step - loss: 1.0038 - accuracy: 0.4637 - val_loss: 0.9956 - val_accuracy: 0.4688\n",
      "Epoch 9/15\n",
      "28/28 [==============================] - 0s 2ms/step - loss: 1.0022 - accuracy: 0.4637 - val_loss: 0.9941 - val_accuracy: 0.4688\n",
      "Epoch 10/15\n",
      "28/28 [==============================] - 0s 2ms/step - loss: 1.0012 - accuracy: 0.4648 - val_loss: 0.9929 - val_accuracy: 0.4688\n",
      "Epoch 11/15\n",
      "28/28 [==============================] - 0s 2ms/step - loss: 1.0003 - accuracy: 0.4648 - val_loss: 0.9919 - val_accuracy: 0.4688\n",
      "Epoch 12/15\n",
      "28/28 [==============================] - 0s 2ms/step - loss: 0.9995 - accuracy: 0.4659 - val_loss: 0.9911 - val_accuracy: 0.4688\n",
      "Epoch 13/15\n",
      "28/28 [==============================] - 0s 2ms/step - loss: 0.9990 - accuracy: 0.4648 - val_loss: 0.9904 - val_accuracy: 0.4688\n",
      "Epoch 14/15\n",
      "28/28 [==============================] - 0s 2ms/step - loss: 0.9983 - accuracy: 0.4637 - val_loss: 0.9898 - val_accuracy: 0.4688\n",
      "Epoch 15/15\n",
      "28/28 [==============================] - 0s 2ms/step - loss: 0.9981 - accuracy: 0.4637 - val_loss: 0.9892 - val_accuracy: 0.4732\n",
      "15/15 [==============================] - 0s 1ms/step - loss: 0.9573 - accuracy: 0.4729\n",
      "Epoch 1/15\n",
      "28/28 [==============================] - 0s 6ms/step - loss: 1.1230 - accuracy: 0.2860 - val_loss: 1.0878 - val_accuracy: 0.3929\n",
      "Epoch 2/15\n",
      "28/28 [==============================] - 0s 2ms/step - loss: 1.0691 - accuracy: 0.4425 - val_loss: 1.0481 - val_accuracy: 0.5223\n",
      "Epoch 3/15\n",
      "28/28 [==============================] - 0s 2ms/step - loss: 1.0405 - accuracy: 0.4771 - val_loss: 1.0265 - val_accuracy: 0.4643\n",
      "Epoch 4/15\n",
      "28/28 [==============================] - 0s 2ms/step - loss: 1.0245 - accuracy: 0.4626 - val_loss: 1.0137 - val_accuracy: 0.4643\n",
      "Epoch 5/15\n",
      "28/28 [==============================] - 0s 2ms/step - loss: 1.0151 - accuracy: 0.4626 - val_loss: 1.0058 - val_accuracy: 0.4643\n",
      "Epoch 6/15\n",
      "28/28 [==============================] - 0s 2ms/step - loss: 1.0094 - accuracy: 0.4626 - val_loss: 1.0011 - val_accuracy: 0.4643\n",
      "Epoch 7/15\n",
      "28/28 [==============================] - 0s 2ms/step - loss: 1.0061 - accuracy: 0.4626 - val_loss: 0.9979 - val_accuracy: 0.4643\n",
      "Epoch 8/15\n",
      "28/28 [==============================] - 0s 2ms/step - loss: 1.0038 - accuracy: 0.4626 - val_loss: 0.9956 - val_accuracy: 0.4643\n",
      "Epoch 9/15\n",
      "28/28 [==============================] - 0s 2ms/step - loss: 1.0021 - accuracy: 0.4626 - val_loss: 0.9939 - val_accuracy: 0.4643\n",
      "Epoch 10/15\n",
      "28/28 [==============================] - 0s 2ms/step - loss: 1.0010 - accuracy: 0.4626 - val_loss: 0.9926 - val_accuracy: 0.4643\n",
      "Epoch 11/15\n",
      "28/28 [==============================] - 0s 2ms/step - loss: 1.0001 - accuracy: 0.4626 - val_loss: 0.9916 - val_accuracy: 0.4643\n",
      "Epoch 12/15\n",
      "28/28 [==============================] - 0s 2ms/step - loss: 0.9993 - accuracy: 0.4626 - val_loss: 0.9907 - val_accuracy: 0.4643\n",
      "Epoch 13/15\n",
      "28/28 [==============================] - 0s 2ms/step - loss: 0.9986 - accuracy: 0.4626 - val_loss: 0.9900 - val_accuracy: 0.4643\n",
      "Epoch 14/15\n",
      "28/28 [==============================] - 0s 2ms/step - loss: 0.9982 - accuracy: 0.4626 - val_loss: 0.9894 - val_accuracy: 0.4643\n",
      "Epoch 15/15\n",
      "28/28 [==============================] - 0s 2ms/step - loss: 0.9979 - accuracy: 0.4626 - val_loss: 0.9888 - val_accuracy: 0.4643\n",
      "15/15 [==============================] - 0s 1ms/step - loss: 0.9551 - accuracy: 0.4708\n",
      "Epoch 1/15\n",
      "28/28 [==============================] - 0s 6ms/step - loss: 1.0887 - accuracy: 0.4358 - val_loss: 1.0642 - val_accuracy: 0.4643\n",
      "Epoch 2/15\n",
      "28/28 [==============================] - 0s 2ms/step - loss: 1.0526 - accuracy: 0.4626 - val_loss: 1.0375 - val_accuracy: 0.4643\n",
      "Epoch 3/15\n",
      "28/28 [==============================] - 0s 2ms/step - loss: 1.0334 - accuracy: 0.4626 - val_loss: 1.0222 - val_accuracy: 0.4643\n",
      "Epoch 4/15\n",
      "28/28 [==============================] - 0s 2ms/step - loss: 1.0222 - accuracy: 0.4626 - val_loss: 1.0126 - val_accuracy: 0.4643\n",
      "Epoch 5/15\n",
      "28/28 [==============================] - 0s 2ms/step - loss: 1.0151 - accuracy: 0.4626 - val_loss: 1.0066 - val_accuracy: 0.4643\n",
      "Epoch 6/15\n",
      "28/28 [==============================] - 0s 2ms/step - loss: 1.0108 - accuracy: 0.4626 - val_loss: 1.0025 - val_accuracy: 0.4643\n",
      "Epoch 7/15\n",
      "28/28 [==============================] - 0s 2ms/step - loss: 1.0079 - accuracy: 0.4626 - val_loss: 0.9995 - val_accuracy: 0.4643\n",
      "Epoch 8/15\n",
      "28/28 [==============================] - 0s 2ms/step - loss: 1.0056 - accuracy: 0.4626 - val_loss: 0.9971 - val_accuracy: 0.4643\n",
      "Epoch 9/15\n",
      "28/28 [==============================] - 0s 2ms/step - loss: 1.0039 - accuracy: 0.4626 - val_loss: 0.9953 - val_accuracy: 0.4643\n",
      "Epoch 10/15\n",
      "28/28 [==============================] - 0s 2ms/step - loss: 1.0027 - accuracy: 0.4626 - val_loss: 0.9938 - val_accuracy: 0.4643\n",
      "Epoch 11/15\n",
      "28/28 [==============================] - 0s 2ms/step - loss: 1.0015 - accuracy: 0.4626 - val_loss: 0.9925 - val_accuracy: 0.4643\n",
      "Epoch 12/15\n",
      "28/28 [==============================] - 0s 2ms/step - loss: 1.0004 - accuracy: 0.4626 - val_loss: 0.9915 - val_accuracy: 0.4643\n",
      "Epoch 13/15\n",
      "28/28 [==============================] - 0s 2ms/step - loss: 0.9995 - accuracy: 0.4626 - val_loss: 0.9904 - val_accuracy: 0.4643\n",
      "Epoch 14/15\n",
      "28/28 [==============================] - 0s 2ms/step - loss: 0.9988 - accuracy: 0.4626 - val_loss: 0.9895 - val_accuracy: 0.4643\n",
      "Epoch 15/15\n",
      "28/28 [==============================] - 0s 2ms/step - loss: 0.9980 - accuracy: 0.4626 - val_loss: 0.9886 - val_accuracy: 0.4643\n",
      "15/15 [==============================] - 0s 1ms/step - loss: 0.9555 - accuracy: 0.4688\n",
      "Epoch 1/15\n",
      "28/28 [==============================] - 0s 6ms/step - loss: 1.0907 - accuracy: 0.3933 - val_loss: 1.0664 - val_accuracy: 0.4643\n",
      "Epoch 2/15\n",
      "28/28 [==============================] - 0s 2ms/step - loss: 1.0541 - accuracy: 0.4603 - val_loss: 1.0385 - val_accuracy: 0.4598\n",
      "Epoch 3/15\n",
      "28/28 [==============================] - 0s 2ms/step - loss: 1.0343 - accuracy: 0.4615 - val_loss: 1.0229 - val_accuracy: 0.4598\n",
      "Epoch 4/15\n",
      "28/28 [==============================] - 0s 2ms/step - loss: 1.0228 - accuracy: 0.4603 - val_loss: 1.0132 - val_accuracy: 0.4598\n",
      "Epoch 5/15\n",
      "28/28 [==============================] - 0s 2ms/step - loss: 1.0158 - accuracy: 0.4615 - val_loss: 1.0071 - val_accuracy: 0.4598\n",
      "Epoch 6/15\n",
      "28/28 [==============================] - 0s 2ms/step - loss: 1.0113 - accuracy: 0.4615 - val_loss: 1.0028 - val_accuracy: 0.4643\n",
      "Epoch 7/15\n",
      "28/28 [==============================] - 0s 2ms/step - loss: 1.0083 - accuracy: 0.4648 - val_loss: 0.9998 - val_accuracy: 0.4643\n",
      "Epoch 8/15\n",
      "28/28 [==============================] - 0s 2ms/step - loss: 1.0062 - accuracy: 0.4637 - val_loss: 0.9975 - val_accuracy: 0.4643\n",
      "Epoch 9/15\n",
      "28/28 [==============================] - 0s 2ms/step - loss: 1.0045 - accuracy: 0.4637 - val_loss: 0.9958 - val_accuracy: 0.4732\n",
      "Epoch 10/15\n",
      "28/28 [==============================] - 0s 2ms/step - loss: 1.0032 - accuracy: 0.4637 - val_loss: 0.9944 - val_accuracy: 0.4732\n",
      "Epoch 11/15\n",
      "28/28 [==============================] - 0s 2ms/step - loss: 1.0024 - accuracy: 0.4637 - val_loss: 0.9932 - val_accuracy: 0.4732\n",
      "Epoch 12/15\n",
      "28/28 [==============================] - 0s 2ms/step - loss: 1.0012 - accuracy: 0.4626 - val_loss: 0.9921 - val_accuracy: 0.4777\n",
      "Epoch 13/15\n",
      "28/28 [==============================] - 0s 2ms/step - loss: 1.0005 - accuracy: 0.4570 - val_loss: 0.9912 - val_accuracy: 0.4777\n",
      "Epoch 14/15\n",
      "28/28 [==============================] - 0s 2ms/step - loss: 0.9998 - accuracy: 0.4603 - val_loss: 0.9904 - val_accuracy: 0.4777\n",
      "Epoch 15/15\n",
      "28/28 [==============================] - 0s 2ms/step - loss: 0.9991 - accuracy: 0.4615 - val_loss: 0.9897 - val_accuracy: 0.4732\n",
      "15/15 [==============================] - 0s 1ms/step - loss: 0.9566 - accuracy: 0.4792\n",
      "Epoch 1/15\n",
      "28/28 [==============================] - 0s 6ms/step - loss: 1.0763 - accuracy: 0.4469 - val_loss: 1.0548 - val_accuracy: 0.4688\n",
      "Epoch 2/15\n",
      "28/28 [==============================] - 0s 2ms/step - loss: 1.0451 - accuracy: 0.4626 - val_loss: 1.0305 - val_accuracy: 0.4643\n",
      "Epoch 3/15\n",
      "28/28 [==============================] - 0s 2ms/step - loss: 1.0275 - accuracy: 0.4626 - val_loss: 1.0166 - val_accuracy: 0.4643\n",
      "Epoch 4/15\n",
      "28/28 [==============================] - 0s 2ms/step - loss: 1.0172 - accuracy: 0.4626 - val_loss: 1.0080 - val_accuracy: 0.4643\n",
      "Epoch 5/15\n",
      "28/28 [==============================] - 0s 2ms/step - loss: 1.0110 - accuracy: 0.4626 - val_loss: 1.0022 - val_accuracy: 0.4643\n",
      "Epoch 6/15\n",
      "28/28 [==============================] - 0s 2ms/step - loss: 1.0068 - accuracy: 0.4626 - val_loss: 0.9983 - val_accuracy: 0.4643\n",
      "Epoch 7/15\n",
      "28/28 [==============================] - 0s 2ms/step - loss: 1.0039 - accuracy: 0.4626 - val_loss: 0.9955 - val_accuracy: 0.4643\n",
      "Epoch 8/15\n",
      "28/28 [==============================] - 0s 2ms/step - loss: 1.0018 - accuracy: 0.4626 - val_loss: 0.9934 - val_accuracy: 0.4643\n",
      "Epoch 9/15\n",
      "28/28 [==============================] - 0s 2ms/step - loss: 1.0003 - accuracy: 0.4626 - val_loss: 0.9918 - val_accuracy: 0.4643\n",
      "Epoch 10/15\n",
      "28/28 [==============================] - 0s 2ms/step - loss: 0.9991 - accuracy: 0.4626 - val_loss: 0.9904 - val_accuracy: 0.4643\n",
      "Epoch 11/15\n",
      "28/28 [==============================] - 0s 2ms/step - loss: 0.9982 - accuracy: 0.4626 - val_loss: 0.9893 - val_accuracy: 0.4643\n",
      "Epoch 12/15\n",
      "28/28 [==============================] - 0s 2ms/step - loss: 0.9972 - accuracy: 0.4626 - val_loss: 0.9883 - val_accuracy: 0.4643\n",
      "Epoch 13/15\n",
      "28/28 [==============================] - 0s 3ms/step - loss: 0.9965 - accuracy: 0.4626 - val_loss: 0.9875 - val_accuracy: 0.4643\n",
      "Epoch 14/15\n",
      "28/28 [==============================] - 0s 2ms/step - loss: 0.9959 - accuracy: 0.4626 - val_loss: 0.9867 - val_accuracy: 0.4643\n",
      "Epoch 15/15\n",
      "28/28 [==============================] - 0s 2ms/step - loss: 0.9953 - accuracy: 0.4626 - val_loss: 0.9860 - val_accuracy: 0.4643\n",
      "15/15 [==============================] - 0s 1ms/step - loss: 0.9523 - accuracy: 0.4708\n",
      "Epoch 1/15\n",
      "28/28 [==============================] - 0s 6ms/step - loss: 1.0801 - accuracy: 0.4458 - val_loss: 1.0572 - val_accuracy: 0.4598\n",
      "Epoch 2/15\n",
      "28/28 [==============================] - 0s 2ms/step - loss: 1.0468 - accuracy: 0.4581 - val_loss: 1.0319 - val_accuracy: 0.4732\n",
      "Epoch 3/15\n",
      "28/28 [==============================] - 0s 2ms/step - loss: 1.0289 - accuracy: 0.4637 - val_loss: 1.0177 - val_accuracy: 0.4643\n",
      "Epoch 4/15\n",
      "28/28 [==============================] - 0s 2ms/step - loss: 1.0186 - accuracy: 0.4615 - val_loss: 1.0089 - val_accuracy: 0.4643\n",
      "Epoch 5/15\n",
      "28/28 [==============================] - 0s 2ms/step - loss: 1.0121 - accuracy: 0.4626 - val_loss: 1.0032 - val_accuracy: 0.4643\n",
      "Epoch 6/15\n",
      "28/28 [==============================] - 0s 2ms/step - loss: 1.0079 - accuracy: 0.4626 - val_loss: 0.9992 - val_accuracy: 0.4643\n",
      "Epoch 7/15\n",
      "28/28 [==============================] - 0s 2ms/step - loss: 1.0051 - accuracy: 0.4626 - val_loss: 0.9965 - val_accuracy: 0.4643\n",
      "Epoch 8/15\n",
      "28/28 [==============================] - 0s 2ms/step - loss: 1.0032 - accuracy: 0.4626 - val_loss: 0.9944 - val_accuracy: 0.4643\n",
      "Epoch 9/15\n",
      "28/28 [==============================] - 0s 2ms/step - loss: 1.0016 - accuracy: 0.4615 - val_loss: 0.9927 - val_accuracy: 0.4643\n",
      "Epoch 10/15\n",
      "28/28 [==============================] - 0s 2ms/step - loss: 1.0003 - accuracy: 0.4626 - val_loss: 0.9915 - val_accuracy: 0.4643\n",
      "Epoch 11/15\n",
      "28/28 [==============================] - 0s 2ms/step - loss: 0.9996 - accuracy: 0.4615 - val_loss: 0.9904 - val_accuracy: 0.4643\n",
      "Epoch 12/15\n",
      "28/28 [==============================] - 0s 2ms/step - loss: 0.9986 - accuracy: 0.4659 - val_loss: 0.9894 - val_accuracy: 0.4643\n",
      "Epoch 13/15\n",
      "28/28 [==============================] - 0s 2ms/step - loss: 0.9980 - accuracy: 0.4626 - val_loss: 0.9886 - val_accuracy: 0.4688\n",
      "Epoch 14/15\n",
      "28/28 [==============================] - 0s 2ms/step - loss: 0.9972 - accuracy: 0.4682 - val_loss: 0.9878 - val_accuracy: 0.4732\n",
      "Epoch 15/15\n",
      "28/28 [==============================] - 0s 2ms/step - loss: 0.9966 - accuracy: 0.4659 - val_loss: 0.9871 - val_accuracy: 0.4732\n",
      "15/15 [==============================] - 0s 1ms/step - loss: 0.9532 - accuracy: 0.4729\n"
     ]
    }
   ],
   "source": [
    "for i in hidden_neurons_num:\n",
    "    model = keras.Sequential([\n",
    "        Flatten(input_shape=(11,1)),\n",
    "        Dense(i, activation='relu'),\n",
    "        Dense(3, activation='softmax')\n",
    "    ])\n",
    "    model.compile(optimizer='SGD',\n",
    "             loss='categorical_crossentropy',\n",
    "             metrics=['accuracy'])\n",
    "    a=model.fit(X_train, y_train_cat, batch_size=32, epochs=15, validation_split=0.2)\n",
    "    res_train_vec.append(a.history['val_accuracy'][14])\n",
    "    b=model.evaluate(X_test, y_test_cat)\n",
    "    res_test_vec.append(b[1])"
   ]
  },
  {
   "cell_type": "code",
   "execution_count": 117,
   "id": "9ada05a8",
   "metadata": {},
   "outputs": [
    {
     "data": {
      "text/plain": [
       "[0.4732142984867096,\n",
       " 0.4642857015132904,\n",
       " 0.4642857015132904,\n",
       " 0.4732142984867096,\n",
       " 0.4642857015132904,\n",
       " 0.4732142984867096]"
      ]
     },
     "execution_count": 117,
     "metadata": {},
     "output_type": "execute_result"
    }
   ],
   "source": [
    "res_train_vec"
   ]
  },
  {
   "cell_type": "code",
   "execution_count": 118,
   "id": "37b57a62",
   "metadata": {},
   "outputs": [
    {
     "data": {
      "text/plain": [
       "[0.4729166626930237,\n",
       " 0.47083333134651184,\n",
       " 0.46875,\n",
       " 0.4791666567325592,\n",
       " 0.47083333134651184,\n",
       " 0.4729166626930237]"
      ]
     },
     "execution_count": 118,
     "metadata": {},
     "output_type": "execute_result"
    }
   ],
   "source": [
    "res_test_vec"
   ]
  },
  {
   "cell_type": "code",
   "execution_count": 119,
   "id": "a9e8e7e6",
   "metadata": {
    "scrolled": false
   },
   "outputs": [
    {
     "data": {
      "text/plain": [
       "[<matplotlib.lines.Line2D at 0x1ad01f40f90>,\n",
       " <matplotlib.lines.Line2D at 0x1ad00273cd0>]"
      ]
     },
     "execution_count": 119,
     "metadata": {},
     "output_type": "execute_result"
    },
    {
     "data": {
      "image/png": "[encoded data removed]",
      "text/plain": [
       "<Figure size 640x480 with 1 Axes>"
      ]
     },
     "metadata": {},
     "output_type": "display_data"
    }
   ],
   "source": [
    "plt.plot(hidden_neurons_num,res_train_vec,hidden_neurons_num,res_test_vec)"
   ]
  },
  {
   "cell_type": "code",
   "execution_count": null,
   "id": "0c51bb96",
   "metadata": {},
   "outputs": [],
   "source": []
  },
  {
   "cell_type": "code",
   "execution_count": null,
   "id": "92175253",
   "metadata": {},
   "outputs": [],
   "source": []
  }
 ],
 "metadata": {
  "kernelspec": {
   "display_name": "Python 3 (ipykernel)",
   "language": "python",
   "name": "python3"
  },
  "language_info": {
   "codemirror_mode": {
    "name": "ipython",
    "version": 3
   },
   "file_extension": ".py",
   "mimetype": "text/x-python",
   "name": "python",
   "nbconvert_exporter": "python",
   "pygments_lexer": "ipython3",
   "version": "3.11.4"
  }
 },
 "nbformat": 4,
 "nbformat_minor": 5
}
